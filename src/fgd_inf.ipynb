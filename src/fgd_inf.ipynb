{
 "cells": [
  {
   "cell_type": "code",
   "execution_count": null,
   "metadata": {},
   "outputs": [],
   "source": [
    "import jetnet\n",
    "from jetnet.datasets import JetNet\n",
    "import numpy as np\n",
    "import matplotlib.pyplot as plt\n",
    "import gen_metrics\n",
    "from tqdm import tqdm\n",
    "import pandas as pd\n",
    "from IPython.display import Markdown, display\n",
    "import pickle\n",
    "import plotting\n",
    "from typing import OrderedDict\n",
    "\n",
    "plt.rcParams.update({\"font.size\": 16})\n"
   ]
  },
  {
   "cell_type": "code",
   "execution_count": null,
   "metadata": {},
   "outputs": [],
   "source": [
    "%load_ext autoreload\n",
    "%autoreload 2"
   ]
  },
  {
   "cell_type": "code",
   "execution_count": null,
   "metadata": {},
   "outputs": [],
   "source": [
    "import os\n",
    "\n",
    "plot_dir = \"../plots/fgd_inf/Nov6\"\n",
    "_ = os.system(f\"mkdir -p {plot_dir}\")\n",
    "\n",
    "data_dir = \"../saved_dir/\""
   ]
  },
  {
   "cell_type": "code",
   "execution_count": null,
   "metadata": {},
   "outputs": [],
   "source": [
    "gen_jets = np.load(f\"{data_dir}/best_epoch_gen_jets-3.npy\")\n",
    "gen_efps = jetnet.utils.efps(gen_jets, efpset_args=[(\"d<=\", 4)])\n",
    "real_efps = np.load(f\"{data_dir}/t.npy\")\n"
   ]
  },
  {
   "cell_type": "code",
   "execution_count": null,
   "metadata": {},
   "outputs": [],
   "source": [
    "_ = plt.hist(real_efps[:, 24], np.linspace(0, 0.2, 101), histtype='step', label=\"Real\")\n",
    "_ = plt.hist(gen_efps[:, 24], np.linspace(0, 0.2, 101), histtype='step', label=\"Gen\")\n",
    "plt.yscale('log')\n",
    "plt.xlabel(\"EFP 24\")\n",
    "# plt.xscale('log')\n",
    "# plt.ylabel(r\"$\\overline{\\mathrm{FGD}}_{\\infty}^{+\\sigma}$\")\n",
    "_ = plt.legend()"
   ]
  },
  {
   "cell_type": "code",
   "execution_count": null,
   "metadata": {},
   "outputs": [],
   "source": [
    "from scipy.optimize import curve_fit\n",
    "from scipy.stats import linregress\n",
    "\n",
    "def linear(x, intercept, slope):\n",
    "    return intercept + slope * x"
   ]
  },
  {
   "cell_type": "code",
   "execution_count": null,
   "metadata": {},
   "outputs": [],
   "source": [
    "numb = 5\n",
    "nump = 200\n",
    "\n",
    "means_ses = []\n",
    "for i in tqdm(range(10)):\n",
    "    res = gen_metrics.one_over_n_extrapolation_repeated_measurements(real_efps, gen_efps, min_samples=5000, max_samples=50_000, num_batches=numb, num_points=nump, seed=i)\n",
    "    means_ses.append([res[0], res[1]])\n",
    "\n",
    "means_ses = np.array(means_ses)\n",
    "plt.figure(figsize=(12, 12))\n",
    "plt.errorbar(range(10), means_ses[:, 0], means_ses[:, 1], fmt=\"o\")\n",
    "plt.ylabel(r\"FGD$_\\infty$\")\n",
    "plt.xlabel(\"Seed\")\n",
    "plt.savefig(f\"{plot_dir}/fgdinf_check_b{numb}_p{nump}_vb.pdf\")"
   ]
  },
  {
   "cell_type": "code",
   "execution_count": null,
   "metadata": {},
   "outputs": [],
   "source": [
    "numb = 10\n",
    "nump = 200\n",
    "\n",
    "res = gen_metrics.one_over_n_extrapolation_repeated_measurements(real_efps, gen_efps, min_samples=5000, max_samples=50_000, num_batches=numb, num_points=nump, seed=0)"
   ]
  },
  {
   "cell_type": "code",
   "execution_count": null,
   "metadata": {},
   "outputs": [],
   "source": [
    "plt.figure(figsize=(12, 12))\n",
    "# plt.errorbar(0, res[0], res[1], fmt=\"o\")\n",
    "plt.scatter(res[2], res[3])\n",
    "plt.plot(np.linspace(0, 50_000, 101), res[0] + res[4] * (1 / np.linspace(0, 50_000, 101)), color=\"red\")\n",
    "# plt.legend()"
   ]
  },
  {
   "cell_type": "code",
   "execution_count": null,
   "metadata": {},
   "outputs": [],
   "source": [
    "plt.figure(figsize=(12, 12))\n",
    "plt.errorbar(0, res[0], res[1], fmt=\"o\")\n",
    "plt.scatter(1 / res[2], res[3])\n",
    "plt.plot(1 / np.linspace(5000, 1e8, 101), res[0] + res[4] * (1 / np.linspace(5000, 1e8, 101)), color=\"red\")\n",
    "# plt.legend()"
   ]
  },
  {
   "cell_type": "code",
   "execution_count": null,
   "metadata": {},
   "outputs": [],
   "source": [
    "means_ses = np.array(means_ses)\n",
    "plt.figure(figsize=(12, 12))\n",
    "plt.errorbar(range(10), means_ses[:, 0], means_ses[:, 1], fmt=\"o\")\n",
    "plt.ylabel(r\"FGD$_\\infty$\")\n",
    "plt.xlabel(\"Seed\")\n",
    "plt.savefig(f\"{plot_dir}/fgdinf_check_b{numb}_p{nump}_vb.pdf\")"
   ]
  },
  {
   "cell_type": "code",
   "execution_count": null,
   "metadata": {},
   "outputs": [],
   "source": [
    "res = gen_metrics.one_over_n_extrapolation(real_efps, gen_efps, gen_metrics.frechet_gaussian_distance, min_samples=5_000, max_samples=25_000, num_batches=1, num_points=101, seed=1)\n",
    "res"
   ]
  },
  {
   "cell_type": "code",
   "execution_count": null,
   "metadata": {},
   "outputs": [],
   "source": [
    "plt.figure(figsize=(12, 12))\n",
    "plt.errorbar(res[2], res[3][:, 0], res[3][:, 1], fmt=\"o\")\n",
    "plt.plot(np.linspace(0, 50_000, 101), res[0][0] + res[0][1] * (1 / np.linspace(0, 50_000, 101)), color=\"red\")\n",
    "# plt.legend()"
   ]
  },
  {
   "cell_type": "code",
   "execution_count": null,
   "metadata": {},
   "outputs": [],
   "source": [
    "plt.figure(figsize=(12, 12))\n",
    "# plt.errorbar(1 / res[0], res[1][:, 0], res[1][:, 1], fmt=\"o\")\n",
    "plt.scatter(1 / res[2], res[3][:, 0])\n",
    "plt.plot(np.linspace(0, 0.0002, 101), res[0][0] + res[0][1] * np.linspace(0, 0.0002, 101), label=\"Full Fit\", color=\"red\")\n",
    "plt.errorbar(0, res[0][0], res[1][0], fmt=\"o\", color=\"red\")\n",
    "plt.title(\"Without errors on measurements\")\n",
    "plt.savefig(f\"{plot_dir}/fgdinf_fit_b{numb}_p{nump}.pdf\")\n",
    "# plt.legend()"
   ]
  },
  {
   "cell_type": "code",
   "execution_count": null,
   "metadata": {},
   "outputs": [],
   "source": [
    "plt.figure(figsize=(12, 12))\n",
    "plt.scatter(res[2], res[3])\n",
    "# plt.plot(np.linspace(0, 0.0002, 101), res[0] + res[4] * np.linspace(0, 0.0002, 101), label=\"Full Fit\", color=\"red\")\n",
    "# plt.plot(np.linspace(0, 0.0002, 101), val[0] + val[1] * np.linspace(0, 0.0002, 101), label=\"Averaged Fit\", color=\"green\")\n",
    "# plt.errorbar(1 / np.mean(res[2][:-1].reshape(-1, 10), axis=1), np.mean(res[3][:-1].reshape(-1, 10), axis=1), np.std(res[3][:-1].reshape(-1, 10), axis=1), fmt=\"o\", color=\"green\")\n",
    "# plt.errorbar(0, res[0], res[1], fmt=\"o\", color=\"red\")\n",
    "# plt.errorbar(-0.000001, val[0], np.sqrt(np.diag(cov))[0], fmt=\"o\", color=\"green\")\n",
    "plt.xlabel(\"N\")\n",
    "plt.ylabel(\"FGD\")\n",
    "plt.legend()"
   ]
  },
  {
   "cell_type": "code",
   "execution_count": null,
   "metadata": {},
   "outputs": [],
   "source": [
    "plt.figure(figsize=(12, 12))\n",
    "plt.scatter(1 / res[2], res[3])\n",
    "plt.plot(np.linspace(0, 0.0002, 101), res[0] + res[4] * np.linspace(0, 0.0002, 101), label=\"Full Fit\", color=\"red\")\n",
    "# plt.plot(np.linspace(0, 0.0002, 101), val[0] + val[1] * np.linspace(0, 0.0002, 101), label=\"Averaged Fit\", color=\"green\")\n",
    "# plt.errorbar(1 / np.mean(res[2][:-1].reshape(-1, 10), axis=1), np.mean(res[3][:-1].reshape(-1, 10), axis=1), np.std(res[3][:-1].reshape(-1, 10), axis=1), fmt=\"o\", color=\"green\")\n",
    "plt.errorbar(0, res[0], res[1], fmt=\"o\", color=\"red\")\n",
    "# plt.errorbar(-0.000001, val[0], np.sqrt(np.diag(cov))[0], fmt=\"o\", color=\"green\")\n",
    "plt.xlabel(\"N\")\n",
    "plt.ylabel(\"FGD\")\n",
    "plt.legend()"
   ]
  },
  {
   "cell_type": "code",
   "execution_count": null,
   "metadata": {},
   "outputs": [],
   "source": [
    "plt.figure(figsize=(12, 12))\n",
    "plt.scatter(1 / res[2], res[3])\n",
    "# plt.plot(np.linspace(0, 0.0002, 101), res[0] + res[4] * np.linspace(0, 0.0002, 101), label=\"Full Fit\", color=\"red\")\n",
    "# plt.plot(np.linspace(0, 0.0002, 101), val[0] + val[1] * np.linspace(0, 0.0002, 101), label=\"Averaged Fit\", color=\"green\")\n",
    "# plt.errorbar(1 / np.mean(res[2][:-1].reshape(-1, 10), axis=1), np.mean(res[3][:-1].reshape(-1, 10), axis=1), np.std(res[3][:-1].reshape(-1, 10), axis=1), fmt=\"o\", color=\"green\")\n",
    "# plt.errorbar(0, res[0], res[1], fmt=\"o\", color=\"red\")\n",
    "# plt.errorbar(-0.000001, val[0], np.sqrt(np.diag(cov))[0], fmt=\"o\", color=\"green\")\n",
    "plt.legend()"
   ]
  },
  {
   "cell_type": "code",
   "execution_count": null,
   "metadata": {},
   "outputs": [],
   "source": [
    "plt.figure(figsize=(12, 12))\n",
    "plt.scatter(1 / res[2], res[3])\n",
    "plt.plot(np.linspace(0, 0.0002, 101), res[0] + res[4] * np.linspace(0, 0.0002, 101), label=\"Full Fit\", color=\"red\")\n",
    "plt.plot(np.linspace(0, 0.0002, 101), val[0] + val[1] * np.linspace(0, 0.0002, 101), label=\"Averaged Fit\", color=\"green\")\n",
    "plt.errorbar(1 / np.mean(res[2][:-1].reshape(-1, 10), axis=1), np.mean(res[3][:-1].reshape(-1, 10), axis=1), np.std(res[3][:-1].reshape(-1, 10), axis=1), fmt=\"o\", color=\"green\")\n",
    "plt.errorbar(0, res[0], res[1], fmt=\"o\", color=\"red\")\n",
    "plt.errorbar(-0.000001, val[0], np.sqrt(np.diag(cov))[0], fmt=\"o\", color=\"green\")\n",
    "plt.legend()"
   ]
  },
  {
   "cell_type": "code",
   "execution_count": null,
   "metadata": {},
   "outputs": [],
   "source": [
    "plt.figure(figsize=(12, 12))\n",
    "plt.scatter(res[2], res[3])\n",
    "plt.plot(np.linspace(0, 50_000, 101), res[0] + res[4] * (1 / np.linspace(0, 50_000, 101)))"
   ]
  },
  {
   "cell_type": "code",
   "execution_count": null,
   "metadata": {},
   "outputs": [],
   "source": [
    "plt.figure(figsize=(12, 12))\n",
    "plt.scatter(np.mean(res[2][:-1].reshape(-1, 10), axis=1), np.mean(res[3][:-1].reshape(-1, 10), axis=1))"
   ]
  },
  {
   "cell_type": "code",
   "execution_count": null,
   "metadata": {},
   "outputs": [],
   "source": [
    "plt.figure(figsize=(12, 12))\n",
    "plt.errorbar(1 / np.mean(res[2][:-1].reshape(-1, 10), axis=1), np.mean(res[3][:-1].reshape(-1, 10), axis=1), np.std(res[3][:-1].reshape(-1, 10), axis=1), fmt=\"o\")"
   ]
  },
  {
   "cell_type": "code",
   "execution_count": null,
   "metadata": {},
   "outputs": [],
   "source": [
    "ms = []\n",
    "for batch_size in tqdm(batch_sizes[\"fgd\"][9:]):\n",
    "    mean_std, timing = gen_metrics.multi_batch_evaluation(\n",
    "        real_efps,\n",
    "        gen_efps,\n",
    "        5,\n",
    "        batch_size,\n",
    "        gen_metrics.frechet_gaussian_distance,\n",
    "        timing=True,\n",
    "        normalise=True\n",
    "    )\n",
    "    ms.append(mean_std)"
   ]
  }
 ],
 "metadata": {
  "kernelspec": {
   "display_name": "Python 3.10.4 ('python310')",
   "language": "python",
   "name": "python3"
  },
  "language_info": {
   "codemirror_mode": {
    "name": "ipython",
    "version": 3
   },
   "file_extension": ".py",
   "mimetype": "text/x-python",
   "name": "python",
   "nbconvert_exporter": "python",
   "pygments_lexer": "ipython3",
   "version": "3.10.4"
  },
  "orig_nbformat": 4,
  "vscode": {
   "interpreter": {
    "hash": "31a7b1cb5f073f7a7d37b3db504c6954ce2b88e0f82e412b65ad0b5f2dd17394"
   }
  }
 },
 "nbformat": 4,
 "nbformat_minor": 2
}
