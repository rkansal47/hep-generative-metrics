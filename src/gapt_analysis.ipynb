{
 "cells": [
  {
   "cell_type": "code",
   "execution_count": 1,
   "metadata": {},
   "outputs": [],
   "source": [
    "import jetnet\n",
    "from jetnet.datasets import JetNet\n",
    "import numpy as np\n",
    "import matplotlib.pyplot as plt\n",
    "import gen_metrics\n",
    "from tqdm import tqdm\n",
    "import pandas as pd\n",
    "from IPython.display import Markdown, display\n",
    "import pickle\n",
    "import plotting\n",
    "from typing import OrderedDict\n",
    "import mplhep as hep\n",
    "\n",
    "plt.rcParams.update({\"font.size\": 16})\n"
   ]
  },
  {
   "cell_type": "code",
   "execution_count": 2,
   "metadata": {},
   "outputs": [],
   "source": [
    "%load_ext autoreload\n",
    "%autoreload 2"
   ]
  },
  {
   "cell_type": "code",
   "execution_count": 3,
   "metadata": {},
   "outputs": [],
   "source": [
    "import os\n",
    "\n",
    "plot_dir = \"../plots/gapt_analysis/Nov15\"\n",
    "_ = os.system(f\"mkdir -p {plot_dir}\")\n",
    "\n",
    "data_dir = \"../saved_data/\"\n",
    "model = 162"
   ]
  },
  {
   "cell_type": "code",
   "execution_count": 4,
   "metadata": {},
   "outputs": [],
   "source": [
    "loss_keys = {\"fpd\": \"FPD\", \"fpnd\": \"FPND\", \"kpd\": \"KPD\", \"w1m\": r\"$W^M_1$\"}\n",
    "\n",
    "losses = {key: np.loadtxt(f\"{data_dir}/{model}/{key}.txt\") for key in loss_keys}\n",
    "losses['fpnd'] = losses['fpnd'][:, np.newaxis]"
   ]
  },
  {
   "cell_type": "code",
   "execution_count": 5,
   "metadata": {},
   "outputs": [],
   "source": [
    "losses[\"kpd\"][:, 1] /= 2"
   ]
  },
  {
   "cell_type": "markdown",
   "metadata": {},
   "source": [
    "## Correlation Plots"
   ]
  },
  {
   "cell_type": "code",
   "execution_count": 10,
   "metadata": {},
   "outputs": [],
   "source": [
    "def correlation_plot(xkey, ykey, plot_range, scilimits=False):\n",
    "    xlabel = loss_keys[xkey]\n",
    "    ylabel = loss_keys[ykey]\n",
    "\n",
    "    xlosses = losses[xkey][:, 0]\n",
    "    ylosses = losses[ykey][:, 0]\n",
    "\n",
    "    if ykey == \"kpd\":\n",
    "        ylosses += losses[ykey][:, 1]\n",
    "\n",
    "    plt.rcParams.update({\"font.size\": 24})\n",
    "    plt.style.use(hep.style.CMS)\n",
    "\n",
    "    fig = plt.figure(figsize=(12, 10))\n",
    "    # h = plt.hist2d(xlosses, ylosses, bins=40, range=plot_range, cmap=\"jet\")\n",
    "    h = plt.hist2d(\n",
    "        xlosses,\n",
    "        ylosses,\n",
    "        bins=(np.logspace(*np.log10(plot_range[0]), 40), np.logspace(*np.log10(plot_range[1]), 40)),\n",
    "        range=plot_range,\n",
    "        cmap=\"turbo\",\n",
    "    )\n",
    "    # if scilimits:\n",
    "\n",
    "    # if plot_range[0][1] < 0.1:\n",
    "    #     plt.ticklabel_format(axis=\"x\", scilimits=(0, 0), useMathText=True)\n",
    "    # if plot_range[1][1] < 0.1:\n",
    "    #     plt.ticklabel_format(axis=\"y\", scilimits=(0, 0), useMathText=True)\n",
    "\n",
    "    c = plt.colorbar(h[3])\n",
    "    c.set_label(\"Batches\")\n",
    "    plt.xlabel(xlabel, loc=\"left\")\n",
    "    plt.ylabel(ylabel)\n",
    "    plt.xscale(\"log\")\n",
    "    plt.yscale(\"log\")\n",
    "    plt.title(f\"{xlabel} vs {ylabel} Correlation\")\n",
    "    plt.savefig(f\"{plot_dir}/{model}_{xkey}v{ykey}.pdf\", bbox_inches=\"tight\")\n",
    "    plt.show()\n"
   ]
  },
  {
   "cell_type": "code",
   "execution_count": null,
   "metadata": {},
   "outputs": [],
   "source": [
    "correlation_plot(\"fpd\", \"fpnd\", [[4e-4, 0.5], [1e-1, 100]])"
   ]
  },
  {
   "cell_type": "code",
   "execution_count": null,
   "metadata": {},
   "outputs": [],
   "source": [
    "correlation_plot(\"fpd\", \"kpd\", [[4e-4, 0.5], [5e-5, 0.1]], scilimits=True)\n"
   ]
  },
  {
   "cell_type": "code",
   "execution_count": null,
   "metadata": {},
   "outputs": [],
   "source": [
    "correlation_plot(\"fpd\", \"w1m\", [[4e-4, 0.5], [5e-4, 4e-2]], scilimits=True)\n"
   ]
  },
  {
   "cell_type": "markdown",
   "metadata": {},
   "source": [
    "## Checking min values"
   ]
  },
  {
   "cell_type": "code",
   "execution_count": 253,
   "metadata": {},
   "outputs": [
    {
     "name": "stdout",
     "output_type": "stream",
     "text": [
      "0.00039494437002767104\n",
      "1.6079706056339805e-05\n",
      "0.00015920740407288216\n",
      "0.0007647135795280332\n",
      "1685\n"
     ]
    }
   ],
   "source": [
    "print(np.min(losses['fpd'][:, 0]))\n",
    "min_fpd = np.min(losses['fpd'][:, 0])\n",
    "print(losses['fpd'][:, 1][np.argmin(losses['fpd'][:, 0])])\n",
    "min_fpd_err = losses['fpd'][:, 1][np.argmin(losses['fpd'][:, 0])]\n",
    "print(np.sum(losses['kpd'], axis=1)[np.argmin(losses['fpd'][:, 0])])\n",
    "print(losses['w1m'][:, 0][np.argmin(losses['fpd'][:, 0])])\n",
    "print(np.argmin(losses['fpd'][:, 0]) * 5)"
   ]
  },
  {
   "cell_type": "code",
   "execution_count": 254,
   "metadata": {},
   "outputs": [
    {
     "name": "stdout",
     "output_type": "stream",
     "text": [
      "8.88640662697693e-05\n",
      "2.751509418614795e-06\n",
      "0.22055455856711711\n",
      "0.0010978168042935425\n",
      "1125\n"
     ]
    }
   ],
   "source": [
    "print(np.min(np.sum(losses['kpd'], axis=1)))\n",
    "print(losses['kpd'][:, 1][np.argmin(losses['kpd'][:, 0])])\n",
    "print(losses['fpd'][:, 0][np.argmin(losses['kpd'][:, 0])])\n",
    "print(losses['w1m'][:, 0][np.argmin(losses['kpd'][:, 0])])\n",
    "print(np.argmin(losses['kpd'][:, 0]) * 5)"
   ]
  },
  {
   "cell_type": "code",
   "execution_count": 255,
   "metadata": {},
   "outputs": [
    {
     "name": "stdout",
     "output_type": "stream",
     "text": [
      "0.0006274817399960004\n",
      "1740\n",
      "0.0008508698333059454\n",
      "1.9965005806967042\n",
      "0.00030485624808473396\n"
     ]
    }
   ],
   "source": [
    "print(np.min(losses['w1m'][:, 0]))\n",
    "min_idx = np.argmin(losses['w1m'][:, 0])\n",
    "print(min_idx * 5)\n",
    "print(losses['fpd'][:, 0][min_idx])\n",
    "print(losses['fpnd'][:, 0][min_idx])\n",
    "print(np.sum(losses['kpd'], axis=1)[min_idx])"
   ]
  },
  {
   "cell_type": "code",
   "execution_count": 256,
   "metadata": {},
   "outputs": [
    {
     "name": "stdout",
     "output_type": "stream",
     "text": [
      "0.19972998007801834\n",
      "865\n",
      "0.0013954045144753918\n",
      "0.0010260323282771356\n"
     ]
    }
   ],
   "source": [
    "print(np.min(losses['fpnd'][:, 0]))\n",
    "print(np.argmin(losses['fpnd'][:, 0]) * 5)\n",
    "print(losses['fpd'][:, 0][np.argmin(losses['fpnd'][:, 0])])\n",
    "print(losses['kpd'][:, 0][np.argmin(losses['fpnd'][:, 0])])"
   ]
  },
  {
   "cell_type": "code",
   "execution_count": 257,
   "metadata": {},
   "outputs": [
    {
     "name": "stdout",
     "output_type": "stream",
     "text": [
      "1\n",
      "0.00015920740407288216\n",
      "1685\n",
      "1.7353499552628477\n",
      "1685\n",
      "0.0007647135795280332\n",
      "1685\n"
     ]
    }
   ],
   "source": [
    "print(np.sum(losses['fpd'][:, 0] < (min_fpd + 5 * min_fpd_err)))\n",
    "selector = losses['fpd'][:, 0] < (min_fpd + 5 * min_fpd_err)\n",
    "indices = np.where(selector)[0]\n",
    "min_kpd_idx = indices[np.argmin(np.sum(losses['kpd'], axis=1)[indices])]\n",
    "print(np.min(np.sum(losses['kpd'], axis=1)[indices]))\n",
    "print(min_kpd_idx * 5)\n",
    "min_fpnd_idx = indices[np.argmin(losses['fpnd'][indices])]\n",
    "print(np.min(losses['fpnd'][indices]))\n",
    "print(min_fpnd_idx * 5)\n",
    "min_w1m_idx = indices[np.argmin(losses['w1m'][:, 0][indices])]\n",
    "print(np.min(losses['w1m'][:, 0][indices]))\n",
    "print(min_w1m_idx * 5)"
   ]
  },
  {
   "cell_type": "code",
   "execution_count": 258,
   "metadata": {},
   "outputs": [
    {
     "name": "stdout",
     "output_type": "stream",
     "text": [
      "23\n",
      "0.00015920740407288216\n",
      "1685\n",
      "0.27452989351348833\n",
      "920\n",
      "0.00039494437002767104\n",
      "1685\n"
     ]
    }
   ],
   "source": [
    "print(np.sum(losses['w1m'][:, 0] < 0.001))\n",
    "selector = losses['w1m'][:, 0] < 0.001\n",
    "indices = np.where(selector)[0]\n",
    "min_kpd_idx = indices[np.argmin(np.sum(losses['kpd'], axis=1)[indices])]\n",
    "print(np.min(np.sum(losses['kpd'], axis=1)[indices]))\n",
    "print(min_kpd_idx * 5)\n",
    "min_fpnd_idx = indices[np.argmin(losses['fpnd'][indices])]\n",
    "print(np.min(losses['fpnd'][indices]))\n",
    "print(min_fpnd_idx * 5)\n",
    "min_w1m_idx = indices[np.argmin(losses['fpd'][:, 0][indices])]\n",
    "print(np.min(losses['fpd'][:, 0][indices]))\n",
    "print(min_w1m_idx * 5)"
   ]
  },
  {
   "cell_type": "code",
   "execution_count": null,
   "metadata": {},
   "outputs": [],
   "source": [
    "plt.plot(np.arange(0, 4001, 5), losses['kpd'][:, 0] + losses['kpd'][:, 1])\n",
    "plt.yscale('log')\n",
    "plt.ylim([0, 1])"
   ]
  },
  {
   "cell_type": "markdown",
   "metadata": {},
   "source": [
    "## Coverage Check"
   ]
  },
  {
   "cell_type": "code",
   "execution_count": 17,
   "metadata": {},
   "outputs": [],
   "source": [
    "truth_jets_pf, _ = JetNet.getData(\n",
    "    \"t\",\n",
    "    data_dir=\"/Users/raghav/Documents/CERN/gen-models/MPGAN/datasets/\",\n",
    "    split_fraction=[0.7, 0.3, 0],\n",
    "    particle_features=[\"etarel\", \"phirel\", \"ptrel\"],\n",
    "    jet_features=[\"pt\", \"eta\", \"mass\", \"num_particles\"],\n",
    ")\n",
    "\n",
    "efps = jetnet.utils.efps(truth_jets_pf[:, :, :3], efpset_args=[(\"d<=\", 4)])\n",
    "real_efps = np.load(f\"{data_dir}/g.npy\")"
   ]
  },
  {
   "cell_type": "code",
   "execution_count": null,
   "metadata": {},
   "outputs": [],
   "source": [
    "numb = 10\n",
    "bs = 5000\n",
    "\n",
    "means_ses = []\n",
    "# means_ses = list(means_ses)\n",
    "for i in tqdm(range(10, 100)):\n",
    "    res = gen_metrics.multi_batch_evaluation_mmd(real_efps, efps, numb, bs, seed=i)\n",
    "    means_ses.append([res[0], res[1]])\n",
    "\n",
    "means_ses = np.array(means_ses)\n",
    "np.save(f\"{plot_dir}/means_ses_b{numb}_bs{bs}_means_ses.npy\", means_ses)\n",
    "\n",
    "plt.figure(figsize=(12, 12))\n",
    "plt.errorbar(range(10), means_ses[:, 0], means_ses[:, 1], fmt=\"o\")\n",
    "plt.ylabel(r\"FGD$_\\infty$\")\n",
    "plt.ylim([-0.0001, 0.0001])\n",
    "plt.xlabel(\"Seed\")\n",
    "plt.savefig(f\"{plot_dir}/fgdinf_check_b{numb}_bs{bs}_vb_median_real.pdf\")"
   ]
  },
  {
   "cell_type": "code",
   "execution_count": 250,
   "metadata": {},
   "outputs": [
    {
     "data": {
      "text/plain": [
       "74"
      ]
     },
     "execution_count": 250,
     "metadata": {},
     "output_type": "execute_result"
    }
   ],
   "source": [
    "np.sum((means_ses[:, 0] - means_ses[:, 1] < 0) * (means_ses[:, 0] + means_ses[:, 1] > 0))"
   ]
  },
  {
   "cell_type": "code",
   "execution_count": null,
   "metadata": {},
   "outputs": [],
   "source": [
    "maxes = np.max(np.abs(real_efps), axis=0)\n",
    "# maxes"
   ]
  },
  {
   "cell_type": "code",
   "execution_count": null,
   "metadata": {},
   "outputs": [
    {
     "data": {
      "text/plain": [
       "0.059471909231144426"
      ]
     },
     "metadata": {},
     "output_type": "display_data"
    }
   ],
   "source": [
    "np.random.seed(2 + 2 * 1000)\n",
    "rand1 = np.random.choice(len(real_efps), size=bs)\n",
    "rand2 = np.random.choice(len(gen_efps), size=bs)\n",
    "\n",
    "rand_sample1 = real_efps[rand1] / maxes\n",
    "rand_sample2 = gen_efps[rand2] / maxes\n",
    "\n",
    "gen_metrics.mmd_poly_quadratic_unbiased(rand_sample1, rand_sample2, normalise=False, degree=4)"
   ]
  },
  {
   "cell_type": "code",
   "execution_count": null,
   "metadata": {},
   "outputs": [],
   "source": [
    "efp_num = 8\n",
    "_ = plt.hist(rand_sample1[:, efp_num], np.linspace(0, 10, 101), histtype='step', label=\"Real\")\n",
    "_ = plt.hist(rand_sample2[:, efp_num], np.linspace(0, 10, 101), histtype='step', label=\"Gen\")\n",
    "plt.yscale('log')\n",
    "plt.xlabel(f\"EFP {efp_num}\")\n",
    "# plt.xscale('log')\n",
    "# plt.ylabel(r\"$\\overline{\\mathrm{FGD}}_{\\infty}^{+\\sigma}$\")\n",
    "_ = plt.legend()"
   ]
  },
  {
   "cell_type": "markdown",
   "metadata": {},
   "source": [
    "## Final Evaluation"
   ]
  },
  {
   "cell_type": "code",
   "execution_count": 30,
   "metadata": {},
   "outputs": [],
   "source": [
    "real_jets, _ = JetNet.getData(\n",
    "    \"g\",\n",
    "    data_dir=\"/Users/raghav/Documents/CERN/gen-models/MPGAN/datasets/\",\n",
    "    split_fraction=[0.7, 0.3, 0],\n",
    "    split=\"valid\",\n",
    "    particle_features=[\"etarel\", \"phirel\", \"ptrel\"],\n",
    "    jet_features=[\"pt\", \"eta\", \"mass\", \"num_particles\"],\n",
    ")\n",
    "\n",
    "real_jets = real_jets[:50000]"
   ]
  },
  {
   "cell_type": "code",
   "execution_count": 31,
   "metadata": {},
   "outputs": [],
   "source": [
    "gapt_epoch = np.argmin(losses['fpd'][:, 0])\n",
    "real_efps = np.load(f\"{data_dir}/g.npy\")\n",
    "mp_jets = np.load(f\"{data_dir}/model_jets/mp_gen_jets.npy\")\n",
    "gapt_jets = np.load(f\"{data_dir}/model_jets/gapt_gen_jets.npy\")\n",
    "gapt_efps = np.load(f\"{data_dir}/model_jets/gapt_gen_efps.npy\")\n",
    "mp_efps = np.load(f\"{data_dir}/model_jets/mp_gen_efps.npy\")\n",
    "# mp_efps = jetnet.utils.efps(mp_jets[:, :, :3], efpset_args=[(\"d<=\", 4)])\n",
    "# np.save(f\"{data_dir}/model_jets/mp_gen_efps.npy\", mp_efps)"
   ]
  },
  {
   "cell_type": "code",
   "execution_count": 32,
   "metadata": {},
   "outputs": [],
   "source": [
    "real_masses = jetnet.utils.jet_features(real_jets)[\"mass\"]\n",
    "mp_masses = jetnet.utils.jet_features(mp_jets)[\"mass\"]\n",
    "gapt_masses = jetnet.utils.jet_features(gapt_jets)[\"mass\"]"
   ]
  },
  {
   "cell_type": "code",
   "execution_count": null,
   "metadata": {},
   "outputs": [],
   "source": [
    "mp_metrics = {\n",
    "    \"fpnd\": 0.12,\n",
    "    \"w1m\": gen_metrics.multi_batch_evaluation(real_masses, mp_masses, 5, 50000, gen_metrics.wasserstein1d, normalise=False, timing=False, seed=42),\n",
    "    \"kpd\": gen_metrics.multi_batch_evaluation_mmd(real_efps, mp_efps, seed=42),\n",
    "    \"fpd\": gen_metrics.one_over_n_extrapolation_repeated_measurements(real_efps, mp_efps, seed=42)[:2]\n",
    "}"
   ]
  },
  {
   "cell_type": "code",
   "execution_count": 176,
   "metadata": {},
   "outputs": [],
   "source": [
    "min_epoch = np.argmin(losses['fpd'][:, 0])\n",
    "gapt_metrics = {key: losses[key][min_epoch] for key in loss_keys}\n",
    "gapt_metrics[\"fpnd\"] = gapt_metrics[\"fpnd\"][0]\n",
    "gapt_metrics[\"w1m\"] = gen_metrics.multi_batch_evaluation(real_masses, gapt_masses, 5, 50000, gen_metrics.wasserstein1d, normalise=False, timing=False, seed=42)"
   ]
  },
  {
   "cell_type": "code",
   "execution_count": 264,
   "metadata": {},
   "outputs": [],
   "source": [
    "truth_metrics = {\n",
    "    \"fpnd\": 0.01,\n",
    "    \"w1m\": [0.28e-3, 0.05e-3],\n",
    "    \"kpd\": [-6e-6, 5e-6],\n",
    "    \"fpd\": [1e-5, 2e-5],\n",
    "}"
   ]
  },
  {
   "cell_type": "code",
   "execution_count": 265,
   "metadata": {},
   "outputs": [
    {
     "data": {
      "text/markdown": [
       "|    |       | FPD $\\times 10^3$        | KPD $\\times 10^3$           | $W^M_1$ $\\times 10^3$    |\n",
       "|---:|:------|:-------------------------|:----------------------------|:-------------------------|\n",
       "|  0 | Truth | $0.01 \\pm 0.02$          | $-0.006 \\pm 0.005$          | $0.28 \\pm 0.05$          |\n",
       "|  1 | MPGAN | $\\mathbf{0.20 \\pm 0.02}$ | $\\mathbf{-0.001 \\pm 0.004}$ | $\\mathbf{0.54 \\pm 0.06}$ |\n",
       "|  2 | GAPT  | $0.39 \\pm 0.02$          | $0.154 \\pm 0.002$           | $0.56 \\pm 0.08$          |"
      ],
      "text/plain": [
       "<IPython.core.display.Markdown object>"
      ]
     },
     "metadata": {},
     "output_type": "display_data"
    }
   ],
   "source": [
    "table_metrics = {\"Truth\": truth_metrics, \"MPGAN\": mp_metrics, \"GAPT\": gapt_metrics}\n",
    "\n",
    "def format_mean_std(mean_stds: np.ndarray):\n",
    "    mean, sd = mean_stds\n",
    "\n",
    "    if sd == 0:\n",
    "        return f\"${mean:.1f} \\\\pm 0.0$\"\n",
    "\n",
    "    \"\"\"round mean and standard deviation to most significant digit of sd and apply latex formatting\"\"\"\n",
    "    decimals = -int(np.floor(np.log10(sd)))\n",
    "    decimals -= int((sd * 10**decimals) >= 9.5)\n",
    "\n",
    "    if decimals < 0:\n",
    "        ten_to = 10 ** (-decimals)\n",
    "        if mean > ten_to:\n",
    "            mean = ten_to * (mean // ten_to)\n",
    "        else:\n",
    "            mean_ten_to = 10 ** np.floor(np.log10(mean))\n",
    "            mean = mean_ten_to * (mean // mean_ten_to)\n",
    "        sd = ten_to * (sd // ten_to)\n",
    "        decimals = 0\n",
    "\n",
    "    if mean >= 1e3 and sd >= 1e3:\n",
    "        mean = np.round(mean * 1e-3)\n",
    "        sd = np.round(sd * 1e-3)\n",
    "        return f\"${mean:.{decimals}f}$k $\\\\pm {sd:.{decimals}f}$k\"\n",
    "    else:\n",
    "        return f\"${mean:.{decimals}f} \\\\pm {sd:.{decimals}f}$\"\n",
    "\n",
    "\n",
    "cols = [\"fpd\", \"kpd\", \"w1m\"]\n",
    "\n",
    "rows = []\n",
    "\n",
    "rows.append([\"\"] + [loss_keys[col] + r\" $\\times 10^3$\" for col in cols])\n",
    "\n",
    "for label, row_metrics in table_metrics.items():\n",
    "    row = [label]\n",
    "\n",
    "    for col in cols:\n",
    "        row.append(format_mean_std(np.array(row_metrics[col]) * 1e3))\n",
    "    \n",
    "    rows.append(row)\n",
    "\n",
    "for i, col in enumerate(cols):\n",
    "    if table_metrics[\"MPGAN\"][col][0] < table_metrics[\"GAPT\"][col][0]:\n",
    "        bold_idx = 2\n",
    "    else:\n",
    "        bold_idx = 3\n",
    "\n",
    "    rows[bold_idx][i + 1] = r\"$\\mathbf{\" + rows[bold_idx][i + 1][1:-1] + r\"}$\"\n",
    "\n",
    "textable = [\n",
    "    \" & \".join(row) + \"\\\\\\\\\\n\" for row in rows\n",
    "]\n",
    "\n",
    "with open(f\"{plot_dir}/model_scores.tex\", \"w\") as f:\n",
    "    f.writelines(textable)\n",
    "\n",
    "\n",
    "results = pd.DataFrame(\n",
    "    rows[1:], columns=rows[0]\n",
    ")\n",
    "\n",
    "display(Markdown(results.to_markdown()))\n"
   ]
  },
  {
   "cell_type": "code",
   "execution_count": 33,
   "metadata": {},
   "outputs": [],
   "source": [
    "jets_dict = {\"Real\": real_jets[:50000], \"MPGAN\": mp_jets, \"GAPT\": gapt_jets}\n",
    "efps_dict = {\"Real\": real_efps, \"MPGAN\": mp_efps, \"GAPT\": gapt_efps}\n",
    "masses_dict = {\"Real\": real_masses, \"MPGAN\": mp_masses, \"GAPT\": gapt_masses}"
   ]
  },
  {
   "cell_type": "code",
   "execution_count": 44,
   "metadata": {},
   "outputs": [
    {
     "data": {
      "image/png": "[encoded data removed]",
      "text/plain": [
       "<Figure size 2880x576 with 4 Axes>"
      ]
     },
     "metadata": {
      "needs_background": "light"
     },
     "output_type": "display_data"
    }
   ],
   "source": [
    "plt.style.use(hep.style.CMS)\n",
    "plt.rcParams.update({\"font.size\": 36})\n",
    "\n",
    "line_opts = {\n",
    "    \"Real\": {\"color\": \"red\", \"linewidth\": 3, \"linestyle\": \"solid\"},\n",
    "    \"MPGAN\": {\"color\": \"blue\", \"linewidth\": 3, \"linestyle\": \"dashed\"},\n",
    "    \"GAPT\": {\"color\": \"orange\", \"linewidth\": 3, \"linestyle\": \"dashdot\"},\n",
    "}\n",
    "\n",
    "fig, axes = plt.subplots(1, 4, figsize=(40, 8))\n",
    "\n",
    "pbins = [np.linspace(-0.3, 0.3, 101), np.linspace(0, 0.1, 101)]\n",
    "mbins = np.linspace(0, 0.2, 51)\n",
    "efpbins = np.linspace(0, 0.001, 51)\n",
    "# ylims = [1.5e5, 1e5, 1e4, 3e4]\n",
    "\n",
    "xlabels = [\n",
    "    r\"Particle $\\eta^{\\mathrm{rel}}$\",\n",
    "    r\"Particle $p_T^{\\mathrm{rel}}$\",\n",
    "    r\"Jet $m/p_T$\",\n",
    "    r\"Sample $d=4$ EFP\",\n",
    "]\n",
    "\n",
    "ylabels = [\"Particles\", \"Particles\", \"Jets\", \"Jets\"]\n",
    "\n",
    "\n",
    "for key, opts in line_opts.items():\n",
    "    jets = jets_dict[key]\n",
    "\n",
    "    # remove zero-padded particles\n",
    "    mask = np.linalg.norm(jets, axis=2) != 0\n",
    "    parts = jets[mask]\n",
    "\n",
    "    _ = axes[0].hist(parts[:, 0], pbins[0], histtype=\"step\", label=key, **opts)\n",
    "    _ = axes[1].hist(parts[:, 2], pbins[1], histtype=\"step\", label=key, **opts)\n",
    "    _ = axes[2].hist(masses_dict[key], mbins, histtype=\"step\", label=key, **opts)\n",
    "    _ = axes[3].hist(efps_dict[key][:, 25], efpbins, histtype=\"step\", label=key, **opts)\n",
    "\n",
    "\n",
    "for i in range(4):\n",
    "    axes[i].set_xlabel(xlabels[i], loc=\"left\")\n",
    "    axes[i].set_ylabel(ylabels[i])\n",
    "    # axes[i].set_ylim(0, ylim)\n",
    "    axes[i].legend(loc=1, prop={\"size\": 24}, fancybox=True)\n",
    "    axes[i].ticklabel_format(axis=\"y\", scilimits=(0, 0), useMathText=True)\n",
    "\n",
    "axes[3].ticklabel_format(axis=\"x\", scilimits=(0, 0), useMathText=True)\n",
    "\n",
    "# plt.tight_layout(pad=0.5)\n",
    "plt.savefig(f\"{plot_dir}/feature_distributions.pdf\", bbox_inches=\"tight\")\n",
    "plt.show()\n"
   ]
  },
  {
   "cell_type": "code",
   "execution_count": null,
   "metadata": {},
   "outputs": [],
   "source": []
  }
 ],
 "metadata": {
  "kernelspec": {
   "display_name": "Python 3.10.4 ('python310')",
   "language": "python",
   "name": "python3"
  },
  "language_info": {
   "codemirror_mode": {
    "name": "ipython",
    "version": 3
   },
   "file_extension": ".py",
   "mimetype": "text/x-python",
   "name": "python",
   "nbconvert_exporter": "python",
   "pygments_lexer": "ipython3",
   "version": "3.10.4 | packaged by conda-forge | (main, Mar 24 2022, 17:43:32) [Clang 12.0.1 ]"
  },
  "orig_nbformat": 4,
  "vscode": {
   "interpreter": {
    "hash": "31a7b1cb5f073f7a7d37b3db504c6954ce2b88e0f82e412b65ad0b5f2dd17394"
   }
  }
 },
 "nbformat": 4,
 "nbformat_minor": 2
}
